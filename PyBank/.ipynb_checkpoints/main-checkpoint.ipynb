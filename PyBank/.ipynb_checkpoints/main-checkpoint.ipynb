{
 "cells": [
  {
   "cell_type": "code",
   "execution_count": 14,
   "metadata": {},
   "outputs": [],
   "source": [
    "# Import packages\n",
    "import csv\n",
    "from pathlib import Path"
   ]
  },
  {
   "cell_type": "code",
   "execution_count": 20,
   "metadata": {},
   "outputs": [],
   "source": [
    "# Specify paths\n",
    "file_to_load = Path(\"resources/Budget_data.csv\")\n",
    "file_to_output = Path(\"analysis/budget_analysis.txt\")"
   ]
  },
  {
   "cell_type": "code",
   "execution_count": 21,
   "metadata": {},
   "outputs": [],
   "source": [
    "total_months = 0\n",
    "net_total = 0\n",
    "average_change = 0 \n",
    "net_change_list = []\n",
    "greatest_increase = [\"\", 0]\n",
    "greatest_decrease = [\"\", 9999999999999999999]"
   ]
  },
  {
   "cell_type": "code",
   "execution_count": 25,
   "metadata": {},
   "outputs": [
    {
     "name": "stdout",
     "output_type": "stream",
     "text": [
      "-2315.12\n"
     ]
    }
   ],
   "source": [
    "with open(file_to_load) as Budget_data:\n",
    "    reader = csv.reader(Budget_data)\n",
    "    #print(Budget_data)\n",
    "    \n",
    "    # read the header \n",
    "    header = next(reader)\n",
    "    \n",
    "    # Extract first row\n",
    "    first_row = next(reader)\n",
    "    #total_months = total_months + 1 \n",
    "    total_months += 1\n",
    "    net_total = net_total + int(first_row[1])\n",
    "    last_period = int(first_row[1])\n",
    "    \n",
    "    # Create a loop for calculations\n",
    "    for row in reader:\n",
    "        total_months += 1\n",
    "        net_total = net_total + int(row[1])\n",
    "    #print(total_months)\n",
    "        \n",
    "        # Calculate net change\n",
    "        net_change = int(row[1]) - last_period\n",
    "        last_period = int(row[1]) \n",
    "        net_change_list += [net_change]\n",
    "\n",
    "        if net_change > greatest_increase[1]:\n",
    "            greatest_increase[0] = row[0] \n",
    "            greatest_increase[1] = net_change \n",
    "        \n",
    "        if net_change < greatest_decrease[1]:\n",
    "            greatest_decrease[0] = row[0]\n",
    "            greatest_decrease[1] = net_change\n",
    "             \n",
    "       \n",
    "    # Calculate greatest increase/decrease\n",
    "        \n",
    "average_change= round(sum(net_change_list)/len(net_change_list),2)\n",
    "print(average_change)\n",
    "\n",
    "    "
   ]
  },
  {
   "cell_type": "code",
   "execution_count": 33,
   "metadata": {},
   "outputs": [],
   "source": [
    "with open(file_to_output, \"w\") as txt_file:\n",
    "    result = (\n",
    "    f\"Financial Analysis\\n\"\n",
    "    f\"-------------------\\n\"\n",
    "    f\"Total Months: {total_months}\\n\"\n",
    "    f\"Total: ${net_total}\\n\"\n",
    "    f\"Average change: {average_change}\\n\"\n",
    "    f\"Greatest Increase in Profits: {greatest_increase[0]} (${greatest_increase[1]})\\n\"   \n",
    "    f\"Greatest Decrease in Profits: {greatest_decrease[0]} (${greatest_decrease[1]})\" \n",
    "    )\n",
    "    txt_file.write (result)"
   ]
  },
  {
   "cell_type": "code",
   "execution_count": 31,
   "metadata": {},
   "outputs": [
    {
     "data": {
      "text/plain": [
       "'Financial Analysis\\n-------------------\\nTotal Months: 172\\nTotal: $76765156\\nAverage change: -2315.12\\nGreatest Increase in Profits: Feb-2012 ($1926159)\\nGreatest Decrease in Profits: Sep-2013 ($-2196167)\\n'"
      ]
     },
     "execution_count": 31,
     "metadata": {},
     "output_type": "execute_result"
    }
   ],
   "source": [
    "result"
   ]
  },
  {
   "cell_type": "code",
   "execution_count": null,
   "metadata": {},
   "outputs": [],
   "source": []
  }
 ],
 "metadata": {
  "kernelspec": {
   "display_name": "Python 3",
   "language": "python",
   "name": "python3"
  },
  "language_info": {
   "codemirror_mode": {
    "name": "ipython",
    "version": 3
   },
   "file_extension": ".py",
   "mimetype": "text/x-python",
   "name": "python",
   "nbconvert_exporter": "python",
   "pygments_lexer": "ipython3",
   "version": "3.8.5"
  }
 },
 "nbformat": 4,
 "nbformat_minor": 4
}
