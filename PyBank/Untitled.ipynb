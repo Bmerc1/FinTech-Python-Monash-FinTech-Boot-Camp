{
 "cells": [
  {
   "cell_type": "code",
   "execution_count": null,
   "metadata": {},
   "outputs": [],
   "source": [
    "with open(file_to_load) as Budget_data:\n",
    "    reader = csv.reader(Budget_data, delimiter=',')\n",
    "    #print(Budget_data)\n",
    "    \n",
    "    # read the header \n",
    "    header = next(reader)\n",
    "    \n",
    "    # Extract first row\n",
    "    first_row = next(reader)\n",
    "    net_total = int(first_row[1])\n",
    "    last_period = int(first_row[1])\n",
    "    #total_months = total_months + 1\n",
    "    \n",
    "    print(first_row)\n",
    "    \n",
    "    # Create a loop for calculations\n",
    "    for row in reader:\n",
    "        total_months += 1\n",
    "        net_total = net_total + int(row[1])\n",
    "        \n",
    "        net_change = int(row[1]) - last_period\n",
    "        print(net_change)\n",
    "        #last_period = int(row[1]) \n",
    "        \n",
    "        net_change_list = net_change_list + [net_change]\n",
    "        print(net_change)\n",
    "\n",
    "        \n",
    "       \n",
    "    # Calculate greatest increase/decrease\n",
    "        "
   ]
  }
 ],
 "metadata": {
  "kernelspec": {
   "display_name": "Python 3",
   "language": "python",
   "name": "python3"
  },
  "language_info": {
   "codemirror_mode": {
    "name": "ipython",
    "version": 3
   },
   "file_extension": ".py",
   "mimetype": "text/x-python",
   "name": "python",
   "nbconvert_exporter": "python",
   "pygments_lexer": "ipython3",
   "version": "3.8.5"
  }
 },
 "nbformat": 4,
 "nbformat_minor": 4
}
